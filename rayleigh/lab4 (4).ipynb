{
 "cells": [
  {
   "cell_type": "code",
   "execution_count": 2,
   "id": "45d232ee",
   "metadata": {},
   "outputs": [],
   "source": [
    "import numpy as np\n",
    "import scipy.stats as stats\n",
    "import matplotlib.pyplot as plt\n",
    "\n",
    "\n",
    "from statsmodels.distributions.empirical_distribution import ECDF\n",
    "from scipy.stats import norm, bartlett\n",
    "from scipy.stats import f"
   ]
  },
  {
   "cell_type": "markdown",
   "id": "2a669deb",
   "metadata": {},
   "source": [
    "---\n",
    "---\n",
    "---\n",
    "TASK1 (Сравнение двух дисперсий нормальных генеральных совокупностей )"
   ]
  },
  {
   "cell_type": "code",
   "execution_count": 4,
   "id": "e91ada38",
   "metadata": {},
   "outputs": [
    {
     "name": "stdout",
     "output_type": "stream",
     "text": [
      "F-статистика: 3.162416654804364\n",
      "F-критическое: 1.3\n",
      "Выборочная дисперсия выборки 1: 4.9994519274464615\n",
      "Выборочная дисперсия выборки 2: 15.81035004025047\n"
     ]
    }
   ],
   "source": [
    "loc1, scale1, size1 = 10, 2, 100\n",
    "norm_sample1 = norm.rvs(loc=loc1, scale=scale1, size=size1)\n",
    "\n",
    "loc2, scale2, size2 = 15, 4, 150\n",
    "norm_sample2 = norm.rvs(loc=loc2, scale=scale2, size=size2)\n",
    "\n",
    "dispS1 = np.var(norm_sample1, ddof=1)\n",
    "dispS2 = np.var(norm_sample2, ddof=1)\n",
    "\n",
    "\n",
    "# Расчёт F-статистики и определение степеней свободы\n",
    "F_statistic_norm = max(dispS1, dispS2)/min(dispS1, dispS2)\n",
    "\n",
    "k1 = 0 \n",
    "k2 = 0 \n",
    "\n",
    "if dispS1>dispS2:\n",
    "    maxDisp=dispS1\n",
    "    minDisp=dispS2\n",
    "    k1=size1-1\n",
    "    k2=size2-1\n",
    "else:\n",
    "    maxDisp=dispS2\n",
    "    minDisp=dispS1\n",
    "    k1=size2-1\n",
    "    k2=size1-1\n",
    "    \n",
    " \n",
    "\n",
    "print(\"F-статистика:\", F_statistic_norm)\n",
    "print(\"F-критическое:\", 1.3) \n",
    "print(\"Выборочная дисперсия выборки 1:\", dispS1)\n",
    "print(\"Выборочная дисперсия выборки 2:\", dispS2)"
   ]
  },
  {
   "cell_type": "markdown",
   "id": "994b7f25",
   "metadata": {},
   "source": [
    "---\n",
    "---\n",
    "---\n",
    "Эти результаты подтверждают, что дисперсии двух выборок статистически значимо различаются. Таким образом, нулевая гипотеза о равенстве дисперсий отвергается на уровне значимости 0.05, как по Правилу 1, так и по Правилу 2."
   ]
  },
  {
   "cell_type": "markdown",
   "id": "9391b17d",
   "metadata": {},
   "source": [
    "---\n",
    "---\n",
    "---\n",
    "TASK2 (Сравнение двух средних генеральных совокупностей, дисперсии которых известны (большие выборки) )"
   ]
  },
  {
   "cell_type": "code",
   "execution_count": 22,
   "id": "152715ef",
   "metadata": {},
   "outputs": [
    {
     "name": "stdout",
     "output_type": "stream",
     "text": [
      "Среднее 1 выборки: 49.843542610703125\n",
      "Среднее 2 выборки: 48.17389693055036\n",
      "Z-набл:  2.3852081145039454\n",
      "Z-кр, правило 1:  1.96\n",
      "Z-кр, правило 2:  1.65\n"
     ]
    }
   ],
   "source": [
    "from scipy.stats import norm, zscore\n",
    "\n",
    "mu1, sigma1, n1 = 50, 5, 100\n",
    "sample1 = norm.rvs(loc=mu1, scale=sigma1, size=n1)\n",
    "\n",
    "mu2, sigma2, n2 = 49, 6, 150\n",
    "sample2 = norm.rvs(loc=mu2, scale=sigma2, size=n2)\n",
    "\n",
    "mean1 = np.mean(sample1)\n",
    "mean2 = np.mean(sample2)\n",
    "\n",
    "std_error = np.sqrt(sigma1**2/n1 + sigma2**2/n2)\n",
    "z_statistic = (mean1 - mean2) / std_error\n",
    "\n",
    "\n",
    "#Ф(z_кр)=(1-alpha)/2\n",
    "rule1_z = 1.96\n",
    "\n",
    "#Ф(z_кр)=(1-2alpha)/2\n",
    "rule2_z = 1.65\n",
    "\n",
    "\n",
    "print(\"Среднее 1 выборки:\", mean1)\n",
    "print(\"Среднее 2 выборки:\", mean2)\n",
    "print(\"Z-набл: \", z_statistic)\n",
    "print(\"Z-кр, правило 1: \", rule1_z)\n",
    "print(\"Z-кр, правило 2: \", rule2_z)\n"
   ]
  },
  {
   "cell_type": "markdown",
   "id": "81474833",
   "metadata": {},
   "source": [
    "---\n",
    "---\n",
    "---\n",
    "\n",
    "TASK3 (Сравнение нескольких дисперсий нормальных генеральных совокупностей по выборкам различного объема. Критерий Бартлетта)"
   ]
  },
  {
   "cell_type": "code",
   "execution_count": 26,
   "id": "d28687ea",
   "metadata": {},
   "outputs": [
    {
     "name": "stdout",
     "output_type": "stream",
     "text": [
      "[26.159669047106963, 29.365173449754025, 26.39348597373154, 25.920089319064225, 20.77018332254526]\n"
     ]
    },
    {
     "data": {
      "text/plain": [
       "(2.4926446674607123, 0.6459533618149724)"
      ]
     },
     "execution_count": 26,
     "metadata": {},
     "output_type": "execute_result"
    }
   ],
   "source": [
    "from scipy.stats import norm, bartlett\n",
    "\n",
    "# Заданные параметры\n",
    "means = [10, 20, 30, 40, 50]  # разные средние значения для каждой выборки\n",
    "sigma = 5  # одинаковое стандартное отклонение\n",
    "sizes = [50, 60, 70, 80, 90]  # объемы выборок\n",
    "\n",
    "# Генерация пяти выборок\n",
    "samples = [norm.rvs(loc=mu, scale=sigma, size=n) for mu, n in zip(means, sizes)]\n",
    "vars = [np.var(sample) for sample in samples]\n",
    "\n",
    "\n",
    "print(vars)\n",
    "\n",
    "# Применение критерия Бартлетта для проверки равенства дисперсий\n",
    "bartlett_stat, p_value = bartlett(*samples)\n",
    "\n",
    "#l - число выборок\n",
    "chi_crit = 9.5\n",
    "\n",
    "bartlett_stat, p_value"
   ]
  },
  {
   "cell_type": "code",
   "execution_count": null,
   "id": "337dd327",
   "metadata": {},
   "outputs": [],
   "source": []
  }
 ],
 "metadata": {
  "kernelspec": {
   "display_name": "Python 3 (ipykernel)",
   "language": "python",
   "name": "python3"
  },
  "language_info": {
   "codemirror_mode": {
    "name": "ipython",
    "version": 3
   },
   "file_extension": ".py",
   "mimetype": "text/x-python",
   "name": "python",
   "nbconvert_exporter": "python",
   "pygments_lexer": "ipython3",
   "version": "3.9.12"
  }
 },
 "nbformat": 4,
 "nbformat_minor": 5
}
